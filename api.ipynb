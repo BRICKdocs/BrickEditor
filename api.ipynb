{
  "cells": [
    {
      "cell_type": "code",
      "source": [
        "!pip install flask-ngrok"
      ],
      "metadata": {
        "colab": {
          "base_uri": "https://localhost:8080/"
        },
        "id": "7UFN-gZzJ2vr",
        "outputId": "a3d8ea2a-cdcb-4c2f-8078-ce4b080db9bd"
      },
      "execution_count": 2,
      "outputs": [
        {
          "output_type": "stream",
          "name": "stdout",
          "text": [
            "Looking in indexes: https://pypi.org/simple, https://us-python.pkg.dev/colab-wheels/public/simple/\n",
            "Collecting flask-ngrok\n",
            "  Downloading flask_ngrok-0.0.25-py3-none-any.whl (3.1 kB)\n",
            "Requirement already satisfied: requests in /usr/local/lib/python3.7/dist-packages (from flask-ngrok) (2.23.0)\n",
            "Requirement already satisfied: Flask>=0.8 in /usr/local/lib/python3.7/dist-packages (from flask-ngrok) (1.1.4)\n",
            "Requirement already satisfied: itsdangerous<2.0,>=0.24 in /usr/local/lib/python3.7/dist-packages (from Flask>=0.8->flask-ngrok) (1.1.0)\n",
            "Requirement already satisfied: Werkzeug<2.0,>=0.15 in /usr/local/lib/python3.7/dist-packages (from Flask>=0.8->flask-ngrok) (1.0.1)\n",
            "Requirement already satisfied: click<8.0,>=5.1 in /usr/local/lib/python3.7/dist-packages (from Flask>=0.8->flask-ngrok) (7.1.2)\n",
            "Requirement already satisfied: Jinja2<3.0,>=2.10.1 in /usr/local/lib/python3.7/dist-packages (from Flask>=0.8->flask-ngrok) (2.11.3)\n",
            "Requirement already satisfied: MarkupSafe>=0.23 in /usr/local/lib/python3.7/dist-packages (from Jinja2<3.0,>=2.10.1->Flask>=0.8->flask-ngrok) (2.0.1)\n",
            "Requirement already satisfied: idna<3,>=2.5 in /usr/local/lib/python3.7/dist-packages (from requests->flask-ngrok) (2.10)\n",
            "Requirement already satisfied: urllib3!=1.25.0,!=1.25.1,<1.26,>=1.21.1 in /usr/local/lib/python3.7/dist-packages (from requests->flask-ngrok) (1.24.3)\n",
            "Requirement already satisfied: chardet<4,>=3.0.2 in /usr/local/lib/python3.7/dist-packages (from requests->flask-ngrok) (3.0.4)\n",
            "Requirement already satisfied: certifi>=2017.4.17 in /usr/local/lib/python3.7/dist-packages (from requests->flask-ngrok) (2022.6.15)\n",
            "Installing collected packages: flask-ngrok\n",
            "Successfully installed flask-ngrok-0.0.25\n"
          ]
        }
      ]
    },
    {
      "cell_type": "code",
      "execution_count": 4,
      "metadata": {
        "colab": {
          "base_uri": "https://localhost:8080/"
        },
        "id": "6K99XxiYJ0um",
        "outputId": "add48750-83a4-4fdf-e198-467ac91d4358"
      },
      "outputs": [
        {
          "output_type": "stream",
          "name": "stdout",
          "text": [
            " * Serving Flask app \"__main__\" (lazy loading)\n",
            " * Environment: production\n",
            "\u001b[31m   WARNING: This is a development server. Do not use it in a production deployment.\u001b[0m\n",
            "\u001b[2m   Use a production WSGI server instead.\u001b[0m\n",
            " * Debug mode: off\n"
          ]
        },
        {
          "output_type": "stream",
          "name": "stderr",
          "text": [
            "INFO:werkzeug: * Running on http://127.0.0.1:5000/ (Press CTRL+C to quit)\n"
          ]
        },
        {
          "output_type": "stream",
          "name": "stdout",
          "text": [
            " * Running on http://b552-104-155-204-13.ngrok.io\n",
            " * Traffic stats available on http://127.0.0.1:4040\n"
          ]
        },
        {
          "output_type": "stream",
          "name": "stderr",
          "text": [
            "INFO:werkzeug:127.0.0.1 - - [13/Sep/2022 11:46:16] \"\u001b[33mGET / HTTP/1.1\u001b[0m\" 404 -\n",
            "INFO:werkzeug:127.0.0.1 - - [13/Sep/2022 11:46:16] \"\u001b[33mGET / HTTP/1.1\u001b[0m\" 404 -\n",
            "INFO:werkzeug:127.0.0.1 - - [13/Sep/2022 11:46:17] \"\u001b[33mGET / HTTP/1.1\u001b[0m\" 404 -\n",
            "INFO:werkzeug:127.0.0.1 - - [13/Sep/2022 11:46:18] \"\u001b[33mGET /favicon.ico HTTP/1.1\u001b[0m\" 404 -\n"
          ]
        }
      ],
      "source": [
        "from flask import Flask, jsonify, request, url_for, render_template, flash, request, session, g\n",
        "from werkzeug.utils import redirect\n",
        "from flask_ngrok import run_with_ngrok\n",
        "from bs4 import BeautifulSoup\n",
        "import urllib.request\n",
        "import base64\n",
        "from io import BytesIO\n",
        "\n",
        "\n",
        "app = Flask(__name__)\n",
        "run_with_ngrok(app)\n",
        "\n",
        "@app.route(\"/test\", methods=['POST'])\n",
        "def test():\n",
        "    if request.method == 'POST':\n",
        "\n",
        "        return \"<h1> Hello Electron <h1>\"\n",
        "\n",
        "def result(description):\n",
        "    \n",
        "    if request.form.get('mint-pic'):\n",
        "        return redirect(url_for('gen.done', description=description))\n",
        "\n",
        "    device = 'cpu' # gpu 달려있으면  cuda 셋팅 후 전환\n",
        "    set_seed(0)\n",
        "\n",
        "    prompt = description # 텍스트 데이터를 여기서 수신 받아야함  promptRx\n",
        "\n",
        "    model = Dalle.from_pretrained('minDALL-E/1.3B')  # This will automatically download the pretrained model.\n",
        "    model.to(device=device)\n",
        "\n",
        "    # Sampling\n",
        "    images = model.sampling(prompt=prompt,\n",
        "                            top_k=256, # It is recommended that top_k is set lower than 256.\n",
        "                            top_p=4,\n",
        "                            softmax_temperature=1,\n",
        "                            num_candidates=4, # device 성능에 의존. 수치를 낮출수록 생성속도가 빨ㄹ라짐\n",
        "                            device=device).cpu().numpy()\n",
        "    images = np.transpose(images, (0, 2, 3, 1))\n",
        "\n",
        "    # CLIP Re-ranking\n",
        "    model_clip, preprocess_clip = clip.load(\"ViT-B/32\", device=device)\n",
        "    model_clip.to(device=device)\n",
        "    rank = clip_score(prompt=prompt,\n",
        "                    images=images,\n",
        "                    model_clip=model_clip,\n",
        "                    preprocess_clip=preprocess_clip,\n",
        "                    device=device)\n",
        "\n",
        "    # Plot images ==> 결과 데이터를 여기서 보내줘야 함\n",
        "    images = images[rank]\n",
        "    plt.imshow(images[0]) # imgTx\n",
        "    plt.axis('off')\n",
        "    # plt.show()\n",
        "    buf = BytesIO()\n",
        "    # fname = str(hash(id(Figure[0])))\n",
        "    plt.savefig(buf, format=\"png\")\n",
        "    imgname = description.replace(' ','_')+'.png'\n",
        "    plt.savefig('app/static/gen_result/'+imgname)\n",
        "    #Embed the result in the html output\n",
        "    data = base64.b64encode(buf.getbuffer()).decode(\"ascii\")\n",
        "    data = f'data:imagegen/png;base64,{data}'\n",
        "        # \"./static/imagegen/\"+fname+\".png\"\n",
        "    # plt.imshow(images[0]) # imgTx\n",
        "    # Image.fromarray((images[i]*255).astype(np.uint8))\n",
        "    return render_template('gen/result.html', fname=imgname, title=description) # --> api call --> react receive \n",
        "\n",
        "app.run()\n"
      ]
    }
  ],
  "metadata": {
    "language_info": {
      "name": "python"
    },
    "orig_nbformat": 4,
    "colab": {
      "provenance": []
    },
    "kernelspec": {
      "name": "python3",
      "display_name": "Python 3"
    },
    "gpuClass": "standard"
  },
  "nbformat": 4,
  "nbformat_minor": 0
}